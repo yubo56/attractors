{
 "cells": [
  {
   "cell_type": "code",
   "execution_count": 24,
   "id": "economic-viking",
   "metadata": {},
   "outputs": [],
   "source": [
    "import sympy as sp"
   ]
  },
  {
   "cell_type": "code",
   "execution_count": 9,
   "id": "pending-cheese",
   "metadata": {},
   "outputs": [],
   "source": [
    "sc, n, q, I, phi, s, eps = sp.symbols(r'\\Omega_c n \\theta I \\phi \\Omega_s \\epsilon')"
   ]
  },
  {
   "cell_type": "code",
   "execution_count": 10,
   "id": "final-reset",
   "metadata": {},
   "outputs": [
    {
     "data": {
      "text/latex": [
       "$\\displaystyle - \\sin{\\left(I \\right)} \\sin{\\left(\\theta \\right)} \\cos{\\left(\\phi \\right)} + \\cos{\\left(I \\right)} \\cos{\\left(\\theta \\right)} - \\frac{\\Omega_{s} \\cos^{2}{\\left(\\theta \\right)}}{2 \\Omega_{c}}$"
      ],
      "text/plain": [
       "-sin(I)*sin(\\theta)*cos(\\phi) + cos(I)*cos(\\theta) - \\Omega_s*cos(\\theta)**2/(2*\\Omega_c)"
      ]
     },
     "metadata": {},
     "output_type": "display_data"
    }
   ],
   "source": [
    "H = -sp.cos(q)**2 * s / (2 * sc) + sp.cos(q) * sp.cos(I) - sp.sin(I) * sp.sin(q) * sp.cos(phi)\n",
    "display(H)"
   ]
  },
  {
   "cell_type": "code",
   "execution_count": 17,
   "id": "soviet-daisy",
   "metadata": {},
   "outputs": [
    {
     "data": {
      "text/latex": [
       "$\\displaystyle - \\sin{\\left(I \\right)} \\sin{\\left(\\phi \\right)}$"
      ],
      "text/plain": [
       "-sin(I)*sin(\\phi)"
      ]
     },
     "metadata": {},
     "output_type": "display_data"
    }
   ],
   "source": [
    "dqdt = -sp.simplify(sp.Derivative(H, phi).doit() / sp.sin(q))\n",
    "display(dqdt)"
   ]
  },
  {
   "cell_type": "code",
   "execution_count": 16,
   "id": "disciplinary-florence",
   "metadata": {},
   "outputs": [
    {
     "data": {
      "text/latex": [
       "$\\displaystyle \\frac{\\sin{\\left(I \\right)} \\cos{\\left(\\phi \\right)}}{\\tan{\\left(\\theta \\right)}} + \\cos{\\left(I \\right)} - \\frac{\\Omega_{s} \\cos{\\left(\\theta \\right)}}{\\Omega_{c}}$"
      ],
      "text/plain": [
       "sin(I)*cos(\\phi)/tan(\\theta) + cos(I) - \\Omega_s*cos(\\theta)/\\Omega_c"
      ]
     },
     "metadata": {},
     "output_type": "display_data"
    }
   ],
   "source": [
    "dfdt = -sp.simplify(sp.Derivative(H, q).doit() / sp.sin(q))\n",
    "display(dfdt)"
   ]
  },
  {
   "cell_type": "code",
   "execution_count": 18,
   "id": "outdoor-spain",
   "metadata": {},
   "outputs": [
    {
     "data": {
      "text/latex": [
       "$\\displaystyle - \\epsilon \\left(- \\cos{\\left(\\theta \\right)} + \\frac{2 n}{\\Omega_{s}}\\right) \\sin{\\left(\\theta \\right)} - \\sin{\\left(I \\right)} \\sin{\\left(\\phi \\right)}$"
      ],
      "text/plain": [
       "-\\epsilon*(-cos(\\theta) + 2*n/\\Omega_s)*sin(\\theta) - sin(I)*sin(\\phi)"
      ]
     },
     "metadata": {},
     "output_type": "display_data"
    },
    {
     "data": {
      "text/latex": [
       "$\\displaystyle \\epsilon \\left(- \\Omega_{s} \\left(\\cos^{2}{\\left(\\theta \\right)} + 1\\right) + 2 n \\cos{\\left(\\theta \\right)}\\right)$"
      ],
      "text/plain": [
       "\\epsilon*(-\\Omega_s*(cos(\\theta)**2 + 1) + 2*n*cos(\\theta))"
      ]
     },
     "metadata": {},
     "output_type": "display_data"
    }
   ],
   "source": [
    "dqdt_tot = dqdt - eps * sp.sin(q) * (2 * n / s - sp.cos(q))\n",
    "dsdt_tot = eps * (2 * n * sp.cos(q) - s * (1 + sp.cos(q)**2))\n",
    "display(dqdt_tot)\n",
    "display(dsdt_tot)"
   ]
  },
  {
   "cell_type": "code",
   "execution_count": 25,
   "id": "domestic-speaker",
   "metadata": {},
   "outputs": [
    {
     "data": {
      "text/latex": [
       "$\\displaystyle - \\epsilon \\left(- \\cos{\\left(\\theta \\right)} + \\frac{2 n}{\\Omega_{s}}\\right) \\cos{\\left(\\theta \\right)} - \\epsilon \\sin^{2}{\\left(\\theta \\right)}$"
      ],
      "text/plain": [
       "-\\epsilon*(-cos(\\theta) + 2*n/\\Omega_s)*cos(\\theta) - \\epsilon*sin(\\theta)**2"
      ]
     },
     "metadata": {},
     "output_type": "display_data"
    },
    {
     "data": {
      "text/latex": [
       "$\\displaystyle - \\sin{\\left(I \\right)} \\cos{\\left(\\phi \\right)}$"
      ],
      "text/plain": [
       "-sin(I)*cos(\\phi)"
      ]
     },
     "metadata": {},
     "output_type": "display_data"
    },
    {
     "data": {
      "text/latex": [
       "$\\displaystyle \\frac{2 \\epsilon n \\sin{\\left(\\theta \\right)}}{\\Omega_{s}^{2}}$"
      ],
      "text/plain": [
       "2*\\epsilon*n*sin(\\theta)/\\Omega_s**2"
      ]
     },
     "metadata": {},
     "output_type": "display_data"
    },
    {
     "data": {
      "text/latex": [
       "$\\displaystyle - \\frac{\\sin{\\left(I \\right)} \\cos{\\left(\\phi \\right)}}{\\sin^{2}{\\left(\\theta \\right)}} + \\frac{\\Omega_{s} \\sin{\\left(\\theta \\right)}}{\\Omega_{c}}$"
      ],
      "text/plain": [
       "-sin(I)*cos(\\phi)/sin(\\theta)**2 + \\Omega_s*sin(\\theta)/\\Omega_c"
      ]
     },
     "metadata": {},
     "output_type": "display_data"
    },
    {
     "data": {
      "text/latex": [
       "$\\displaystyle - \\frac{\\sin{\\left(I \\right)} \\sin{\\left(\\phi \\right)}}{\\tan{\\left(\\theta \\right)}}$"
      ],
      "text/plain": [
       "-sin(I)*sin(\\phi)/tan(\\theta)"
      ]
     },
     "metadata": {},
     "output_type": "display_data"
    },
    {
     "data": {
      "text/latex": [
       "$\\displaystyle - \\frac{\\cos{\\left(\\theta \\right)}}{\\Omega_{c}}$"
      ],
      "text/plain": [
       "-cos(\\theta)/\\Omega_c"
      ]
     },
     "metadata": {},
     "output_type": "display_data"
    },
    {
     "data": {
      "text/latex": [
       "$\\displaystyle \\epsilon \\left(2 \\Omega_{s} \\sin{\\left(\\theta \\right)} \\cos{\\left(\\theta \\right)} - 2 n \\sin{\\left(\\theta \\right)}\\right)$"
      ],
      "text/plain": [
       "\\epsilon*(2*\\Omega_s*sin(\\theta)*cos(\\theta) - 2*n*sin(\\theta))"
      ]
     },
     "metadata": {},
     "output_type": "display_data"
    },
    {
     "data": {
      "text/latex": [
       "$\\displaystyle 0$"
      ],
      "text/plain": [
       "0"
      ]
     },
     "metadata": {},
     "output_type": "display_data"
    },
    {
     "data": {
      "text/latex": [
       "$\\displaystyle \\epsilon \\left(- \\cos^{2}{\\left(\\theta \\right)} - 1\\right)$"
      ],
      "text/plain": [
       "\\epsilon*(-cos(\\theta)**2 - 1)"
      ]
     },
     "metadata": {},
     "output_type": "display_data"
    }
   ],
   "source": [
    "display(sp.Derivative(dqdt_tot, q).doit())\n",
    "display(sp.Derivative(dqdt_tot, phi).doit())\n",
    "display(sp.Derivative(dqdt_tot, s).doit())\n",
    "display(sp.simplify(sp.Derivative(dfdt, q).doit()))\n",
    "display(sp.Derivative(dfdt, phi).doit())\n",
    "display(sp.Derivative(dfdt, s).doit())\n",
    "display(sp.Derivative(dsdt_tot, q).doit())\n",
    "display(sp.Derivative(dsdt_tot, phi).doit())\n",
    "display(sp.Derivative(dsdt_tot, s).doit())"
   ]
  },
  {
   "cell_type": "code",
   "execution_count": 23,
   "id": "transsexual-friendship",
   "metadata": {},
   "outputs": [
    {
     "data": {
      "text/latex": [
       "$\\displaystyle \\frac{1}{\\sin^{2}{\\left(\\theta \\right)}}$"
      ],
      "text/plain": [
       "sin(\\theta)**(-2)"
      ]
     },
     "execution_count": 23,
     "metadata": {},
     "output_type": "execute_result"
    }
   ],
   "source": [
    "sp.simplify((sp.tan(q)**2 + 1) / sp.tan(q)**2)"
   ]
  }
 ],
 "metadata": {
  "kernelspec": {
   "display_name": "Python 3",
   "language": "python",
   "name": "python3"
  },
  "language_info": {
   "codemirror_mode": {
    "name": "ipython",
    "version": 3
   },
   "file_extension": ".py",
   "mimetype": "text/x-python",
   "name": "python",
   "nbconvert_exporter": "python",
   "pygments_lexer": "ipython3",
   "version": "3.9.2"
  }
 },
 "nbformat": 4,
 "nbformat_minor": 5
}
